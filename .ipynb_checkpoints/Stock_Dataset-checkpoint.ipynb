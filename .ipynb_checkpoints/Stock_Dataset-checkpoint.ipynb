{
  "cells": [
    {
      "cell_type": "code",
      "metadata": {},
      "source": [
        "\n",
        "# import sys\n",
        "# sys.path.append('C:\\\\Users\\\\USER\\\\PycharmProjects\\\\AdvLSTM')\n",
        "from feature_extract import make_feature\n",
        "\n",
        "class StockDataset:\n",
        "    def __init__(self, symbol, x_frames, y_frames,start, end):\n",
        "        self.symbol = symbol\n",
        "        self.x_frames = x_frames\n",
        "        self.y_frames = y_frames\n",
        "        self.start = start\n",
        "        self.end = end\n",
        "        self.data_ = self.data_(self.symbol, self.start, self.end)\n",
        "\n",
        "\n",
        "    def data_(self, symbol, start, end):\n",
        "        mf = make_feature(symbol, start, end)\n",
        "        data = mf.all_feature()\n",
        "        return data\n",
        "\n",
        "    def __len__(self):\n",
        "        return len(self.data_)\n",
        "\n",
        "    def __getitem__(self, idx):\n",
        "        data = self.data_\n",
        "        X = data.iloc[idx : idx + self.x_frames,0:11].to_numpy()\n",
        "        y = data.iloc[idx + self.x_frames : idx + self.x_frames+self.y_frames, 11:].to_numpy()\n",
        "        return X, y  ## \ub370\uc774\ud130\ubcc4 \ub9ac\uc2a4\ud2b8\n",
        "\n",
        "if __name__==\"__main__\":\n",
        "    data_symbol_list = ['^IXIC', 'AAPL', 'AMZN','MSFT','TSLA','GOOG','FB','NVDA','AMD']\n",
        "    trainset = StockDataset(data_symbol_list, 10, 1,\"2012-01-01\",\"2016-12-31\")\n",
        "\n",
        "\n",
        "\n",
        "\n",
        "\n",
        "\n",
        "\n"
      ],
      "outputs": [],
      "execution_count": null
    }
  ],
  "metadata": {
    "anaconda-cloud": {},
    "kernelspec": {
      "display_name": "Python 3",
      "language": "python",
      "name": "python3"
    },
    "language_info": {
      "codemirror_mode": {
        "name": "ipython",
        "version": 3
      },
      "file_extension": ".py",
      "mimetype": "text/x-python",
      "name": "python",
      "nbconvert_exporter": "python",
      "pygments_lexer": "ipython3",
      "version": "3.6.1"
    }
  },
  "nbformat": 4,
  "nbformat_minor": 4
}