{
 "cells": [
  {
   "cell_type": "code",
   "execution_count": null,
   "id": "cd152cf4-c000-4d63-a42c-080e78774325",
   "metadata": {},
   "outputs": [],
   "source": [
    "def adv_loss(input, target):\n",
    "    "
   ]
  }
 ],
 "metadata": {
  "kernelspec": {
   "display_name": "py38_64",
   "language": "python",
   "name": "py38_64"
  },
  "language_info": {
   "codemirror_mode": {
    "name": "ipython",
    "version": 3
   },
   "file_extension": ".py",
   "mimetype": "text/x-python",
   "name": "python",
   "nbconvert_exporter": "python",
   "pygments_lexer": "ipython3",
   "version": "3.8.11"
  }
 },
 "nbformat": 4,
 "nbformat_minor": 5
}
